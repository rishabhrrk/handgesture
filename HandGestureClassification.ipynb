{
  "nbformat": 4,
  "nbformat_minor": 0,
  "metadata": {
    "accelerator": "GPU",
    "colab": {
      "name": "Team 3 (Rishabh Khanna, Abubakr Omar, Easwar Prabakaran) Data Science Project Model",
      "provenance": [],
      "collapsed_sections": [],
      "include_colab_link": true
    },
    "kernelspec": {
      "display_name": "Python 3",
      "name": "python3"
    }
  },
  "cells": [
    {
      "cell_type": "markdown",
      "metadata": {
        "id": "view-in-github",
        "colab_type": "text"
      },
      "source": [
        "<a href=\"https://colab.research.google.com/github/rishabhrrk/handgesture/blob/master/HandGestureClassification.ipynb\" target=\"_parent\"><img src=\"https://colab.research.google.com/assets/colab-badge.svg\" alt=\"Open In Colab\"/></a>"
      ]
    },
    {
      "cell_type": "markdown",
      "metadata": {
        "id": "7DuxGMCe1R3t"
      },
      "source": [
        "# Team 3: Rishabh Khanna, Abubakr Omar, Easwar Prabakaran"
      ]
    },
    {
      "cell_type": "markdown",
      "metadata": {
        "id": "aTPzHNWMl9zn"
      },
      "source": [
        "Importing All libraries and modules"
      ]
    },
    {
      "cell_type": "code",
      "metadata": {
        "id": "1bvq527Yuh_5"
      },
      "source": [
        "import pandas as pd\n",
        "import numpy as np\n",
        "from scipy.stats import randint\n",
        "from sklearn.model_selection import train_test_split\n",
        "from sklearn.preprocessing import StandardScaler\n",
        "from sklearn.ensemble import RandomForestClassifier\n",
        "from sklearn.ensemble import RandomForestRegressor\n",
        "from sklearn.model_selection import RandomizedSearchCV\n",
        "from sklearn.model_selection import GridSearchCV\n",
        "from sklearn.metrics import classification_report\n",
        "from sklearn.metrics import confusion_matrix\n",
        "from keras.models import Sequential\n",
        "from keras.layers import Dense\n",
        "from sklearn.model_selection import train_test_split\n",
        "from sklearn.preprocessing import StandardScaler\n",
        "from sklearn.metrics import confusion_matrix\n",
        "from keras.callbacks import ModelCheckpoint,EarlyStopping\n",
        "from keras import metrics\n",
        "from sklearn.neighbors import KNeighborsClassifier\n",
        "from sklearn.pipeline import Pipeline\n",
        "import matplotlib.pyplot as plt\n",
        "from sklearn.model_selection import learning_curve\n",
        "from sklearn.pipeline import make_pipeline\n",
        "from sklearn.metrics import precision_score\n",
        "from sklearn.metrics import recall_score\n",
        "from sklearn.preprocessing import StandardScaler, LabelBinarizer"
      ],
      "execution_count": null,
      "outputs": []
    },
    {
      "cell_type": "markdown",
      "metadata": {
        "id": "YbnEnTfyyYwv"
      },
      "source": [
        "Import the datasets from the Github"
      ]
    },
    {
      "cell_type": "code",
      "metadata": {
        "id": "veJuvoCW240A"
      },
      "source": [
        "training0 = pd.read_csv(\"https://raw.githubusercontent.com/rishabhrrk/bme_team3_datascience/main/0.csv\", header=None )\n",
        "training1 = pd.read_csv(\"https://raw.githubusercontent.com/rishabhrrk/bme_team3_datascience/main/1.csv\", header=None )\n",
        "training2 = pd.read_csv(\"https://raw.githubusercontent.com/rishabhrrk/bme_team3_datascience/main/2.csv\", header=None )\n",
        "training3 = pd.read_csv(\"https://raw.githubusercontent.com/rishabhrrk/bme_team3_datascience/main/3.csv\", header=None )"
      ],
      "execution_count": null,
      "outputs": []
    },
    {
      "cell_type": "markdown",
      "metadata": {
        "id": "PfScDkaMyzIq"
      },
      "source": [
        "Combine the datasets together"
      ]
    },
    {
      "cell_type": "code",
      "metadata": {
        "id": "5bYUXpZqa8bE"
      },
      "source": [
        "combine = [training0, training1, training2, training3]"
      ],
      "execution_count": null,
      "outputs": []
    },
    {
      "cell_type": "code",
      "metadata": {
        "id": "D6DHHqzHbQN6"
      },
      "source": [
        "datasetandidentifier = pd.concat(combine)"
      ],
      "execution_count": null,
      "outputs": []
    },
    {
      "cell_type": "markdown",
      "metadata": {
        "id": "bybKhfJlzCnG"
      },
      "source": [
        "Move the last column of the dataset into it's own matrix since it shows the identity of each gesture"
      ]
    },
    {
      "cell_type": "code",
      "metadata": {
        "id": "zZbfOj5hcNOQ"
      },
      "source": [
        "dataset = datasetandidentifier.loc[:,0:63]"
      ],
      "execution_count": null,
      "outputs": []
    },
    {
      "cell_type": "code",
      "metadata": {
        "id": "ItPDTw_Fc11b"
      },
      "source": [
        "identifier = datasetandidentifier[64]"
      ],
      "execution_count": null,
      "outputs": []
    },
    {
      "cell_type": "markdown",
      "metadata": {
        "id": "1gjkY-Pnz8od"
      },
      "source": [
        "Split the dataset and identification matrices into training and testing sets. "
      ]
    },
    {
      "cell_type": "code",
      "metadata": {
        "id": "N85gE-WpeJsy"
      },
      "source": [
        "X_train, X_test, y_train, y_test = train_test_split(dataset, identifier, \n",
        "                                                    test_size=0.20,\n",
        "                                                    stratify=identifier,\n",
        "                                                    random_state=1)"
      ],
      "execution_count": null,
      "outputs": []
    },
    {
      "cell_type": "markdown",
      "metadata": {
        "id": "qJHVCXA-fFTq"
      },
      "source": [
        "# K-Nearest Neighbor Model"
      ]
    },
    {
      "cell_type": "code",
      "metadata": {
        "id": "nyzdRdXek2gz"
      },
      "source": [
        "from sklearn.neighbors import KNeighborsClassifier"
      ],
      "execution_count": null,
      "outputs": []
    },
    {
      "cell_type": "code",
      "metadata": {
        "colab": {
          "base_uri": "https://localhost:8080/"
        },
        "id": "0uNKZrSN3sp4",
        "outputId": "84ee414f-26bf-4099-d6f4-eb11e3bc2654"
      },
      "source": [
        "from sklearn.model_selection import GridSearchCV\n",
        "from sklearn.preprocessing import StandardScaler\n",
        "from sklearn.pipeline import Pipeline\n",
        "\n",
        "\n",
        "#create new a knn model\n",
        "\n",
        "\n",
        "knn2 = Pipeline([('scl', StandardScaler()),\n",
        "                     ('knn', KNeighborsClassifier())])\n",
        "\n",
        "\n",
        "#create a dictionary of all values we want to teset for n_neighbors\n",
        "param_grid = {'knn__n_neighbors':np.arange(5,20)}\n",
        "\n",
        "#use gridsearch to test all values for n_neighbors\n",
        "knn_gscv = GridSearchCV(knn2, param_grid, cv=10)\n",
        "\n",
        "#fit model to data\n",
        "knn_gscv.fit(X_train, y_train)"
      ],
      "execution_count": null,
      "outputs": [
        {
          "output_type": "execute_result",
          "data": {
            "text/plain": [
              "GridSearchCV(cv=10, error_score=nan,\n",
              "             estimator=Pipeline(memory=None,\n",
              "                                steps=[('scl',\n",
              "                                        StandardScaler(copy=True,\n",
              "                                                       with_mean=True,\n",
              "                                                       with_std=True)),\n",
              "                                       ('knn',\n",
              "                                        KNeighborsClassifier(algorithm='auto',\n",
              "                                                             leaf_size=30,\n",
              "                                                             metric='minkowski',\n",
              "                                                             metric_params=None,\n",
              "                                                             n_jobs=None,\n",
              "                                                             n_neighbors=5, p=2,\n",
              "                                                             weights='uniform'))],\n",
              "                                verbose=False),\n",
              "             iid='deprecated', n_jobs=None,\n",
              "             param_grid={'knn__n_neighbors': array([ 5,  6,  7,  8,  9, 10, 11, 12, 13, 14, 15, 16, 17, 18, 19])},\n",
              "             pre_dispatch='2*n_jobs', refit=True, return_train_score=False,\n",
              "             scoring=None, verbose=0)"
            ]
          },
          "metadata": {
            "tags": []
          },
          "execution_count": 10
        }
      ]
    },
    {
      "cell_type": "code",
      "metadata": {
        "colab": {
          "base_uri": "https://localhost:8080/"
        },
        "id": "Cux8_1kJ43u0",
        "outputId": "494452e7-4230-4e55-c529-aedf66fad847"
      },
      "source": [
        "#Check the best n_neighbors value\n",
        "knn_gscv. best_params_"
      ],
      "execution_count": null,
      "outputs": [
        {
          "output_type": "execute_result",
          "data": {
            "text/plain": [
              "{'knn__n_neighbors': 5}"
            ]
          },
          "metadata": {
            "tags": []
          },
          "execution_count": 11
        }
      ]
    },
    {
      "cell_type": "code",
      "metadata": {
        "colab": {
          "base_uri": "https://localhost:8080/"
        },
        "id": "N0CreZfI4n7b",
        "outputId": "5883dd44-b863-4c64-e8e2-5a5d4fb413f2"
      },
      "source": [
        "#the accuracy of the model\n",
        "knn_gscv.best_score_"
      ],
      "execution_count": null,
      "outputs": [
        {
          "output_type": "execute_result",
          "data": {
            "text/plain": [
              "0.6597083443071602"
            ]
          },
          "metadata": {
            "tags": []
          },
          "execution_count": 12
        }
      ]
    },
    {
      "cell_type": "markdown",
      "metadata": {
        "id": "cetroF0EE4Rb"
      },
      "source": [
        "Create the testing and validation curves"
      ]
    },
    {
      "cell_type": "code",
      "metadata": {
        "colab": {
          "base_uri": "https://localhost:8080/",
          "height": 297
        },
        "id": "cx-TeElASiJH",
        "outputId": "f8eadc64-2248-4beb-e52c-267bcf49f67f"
      },
      "source": [
        "import matplotlib.pyplot as plt\n",
        "from sklearn.model_selection import learning_curve\n",
        "from sklearn.pipeline import make_pipeline\n",
        "from sklearn.preprocessing import StandardScaler\n",
        "from sklearn.linear_model import LogisticRegression\n",
        "\n",
        "\n",
        "\n",
        "train_sizes, train_scores, test_scores =\\\n",
        "learning_curve(estimator = knn_gscv.best_estimator_,\n",
        "               X = X_train,\n",
        "               y= y_train,\n",
        "               train_sizes=np.linspace(0.1, 1.0, 20),\n",
        "               cv = 10,\n",
        "               n_jobs=-1)\n",
        "\n",
        "train_mean=np.mean(train_scores, axis = 1)\n",
        "train_std = np.std(train_scores, axis=1)\n",
        "test_mean = np. mean(test_scores, axis = 1)\n",
        "test_std = np.std(test_scores, axis=1)\n",
        "\n",
        "plt.plot(train_sizes, train_mean,\n",
        "         color='blue', marker='o',\n",
        "         markersize=5, label = 'training accuracy')\n",
        "\n",
        "plt.fill_between(train_sizes, \n",
        "                 train_mean + train_std,\n",
        "                 train_mean - train_std,\n",
        "                 alpha = .15, color='blue')\n",
        "\n",
        "plt.plot(train_sizes, test_mean,\n",
        "         color='green', linestyle='--',\n",
        "         marker='s', markersize=5,\n",
        "         label='validation accuracy')\n",
        "\n",
        "plt.fill_between(train_sizes, \n",
        "                 test_mean +test_std, \n",
        "                 test_mean - test_std, \n",
        "                 alpha=.15, color='green')\n",
        "\n",
        "plt.grid()\n",
        "plt.xlabel('Number of Training Samples')\n",
        "plt.ylabel('Accuracy')\n",
        "plt.legend(loc='lower right')\n",
        "#plt.ylim([0.7,1])\n",
        "plt.tight_layout()\n",
        "plt.show()"
      ],
      "execution_count": null,
      "outputs": [
        {
          "output_type": "display_data",
          "data": {
            "image/png": "[encoded data removed]",
            "text/plain": [
              "<Figure size 432x288 with 1 Axes>"
            ]
          },
          "metadata": {
            "tags": []
          }
        }
      ]
    },
    {
      "cell_type": "markdown",
      "metadata": {
        "id": "ZC8cHThfE8I8"
      },
      "source": [
        "Create a confusion matrix"
      ]
    },
    {
      "cell_type": "code",
      "metadata": {
        "colab": {
          "base_uri": "https://localhost:8080/",
          "height": 189
        },
        "id": "IStZ6kys6YO5",
        "outputId": "049cb0fe-e5f6-4e85-d20e-c06f2fd31eae"
      },
      "source": [
        "from sklearn.metrics import confusion_matrix\n",
        "\n",
        "knn_gscv.best_estimator_.fit(X_train, y_train)\n",
        "y_pred = knn_gscv.best_estimator_.predict(X_test)\n",
        "confmat = confusion_matrix(y_true = y_test, y_pred=y_pred)\n",
        "fig,ax = plt.subplots(figsize=(2.5, 2.5))\n",
        "ax.matshow(confmat, cmap=plt.cm.Blues, alpha=.3)\n",
        "for i in range(confmat.shape[0]):\n",
        "  for j in range(confmat.shape[1]):\n",
        "    ax.text(x=j, y=i, s=confmat[i, j], va='center', ha='center')\n",
        "\n",
        "plt.xlabel('Predicted label')\n",
        "plt.ylabel('True label')\n",
        "\n",
        "plt.tight_layout()\n",
        "plt.show()"
      ],
      "execution_count": null,
      "outputs": [
        {
          "output_type": "display_data",
          "data": {
            "image/png": "[encoded data removed]",
            "text/plain": [
              "<Figure size 180x180 with 1 Axes>"
            ]
          },
          "metadata": {
            "tags": []
          }
        }
      ]
    },
    {
      "cell_type": "markdown",
      "metadata": {
        "id": "7iQsflXvE_OR"
      },
      "source": [
        "The Precision and Sensitivity"
      ]
    },
    {
      "cell_type": "code",
      "metadata": {
        "colab": {
          "base_uri": "https://localhost:8080/"
        },
        "id": "aD0Ry1EcMYL_",
        "outputId": "ea15c751-342c-4a5a-c558-8bde44057427"
      },
      "source": [
        "from sklearn.metrics import precision_score\n",
        "from sklearn.metrics import recall_score\n",
        "print('Precision: %.3f' % precision_score(y_true=y_test, y_pred=y_pred, average = 'macro'))\n",
        "print('Sensitivity: %.3f' % recall_score(y_test, y_pred, average = 'macro'))\n"
      ],
      "execution_count": null,
      "outputs": [
        {
          "output_type": "stream",
          "text": [
            "Precision: 0.744\n",
            "Sensitivity: 0.663\n"
          ],
          "name": "stdout"
        }
      ]
    },
    {
      "cell_type": "markdown",
      "metadata": {
        "id": "jkeErqP6mpRT"
      },
      "source": [
        "\n",
        "\n",
        "---\n",
        "\n"
      ]
    },
    {
      "cell_type": "markdown",
      "metadata": {
        "id": "BUfv5tykc9TG"
      },
      "source": [
        "# Neural Network Model"
      ]
    },
    {
      "cell_type": "markdown",
      "metadata": {
        "id": "SjDVGXdomIrP"
      },
      "source": [
        "Pre processing for Neural Network (slightly different from the previous model)"
      ]
    },
    {
      "cell_type": "code",
      "metadata": {
        "id": "xfZX25usc78R"
      },
      "source": [
        "sc = StandardScaler()\n",
        "class_le = LabelBinarizer()\n",
        "x_train = pd.DataFrame(sc.fit_transform(X_train))\n",
        "x_test = pd.DataFrame(sc.fit_transform(X_test))\n",
        "y_train_nn = (class_le.fit_transform(y_train))"
      ],
      "execution_count": null,
      "outputs": []
    },
    {
      "cell_type": "markdown",
      "metadata": {
        "id": "ZCo50wBjmQRF"
      },
      "source": [
        "Building Model"
      ]
    },
    {
      "cell_type": "code",
      "metadata": {
        "id": "M55qVrIkdKFd"
      },
      "source": [
        "model = Sequential()"
      ],
      "execution_count": null,
      "outputs": []
    },
    {
      "cell_type": "code",
      "metadata": {
        "id": "GAAx09ezdVH3"
      },
      "source": [
        "model.add(Dense(units=64, input_dim=64, kernel_initializer='uniform', activation='relu'))\n",
        "model.add(Dense(units=40, kernel_initializer='uniform', activation='relu'))\n",
        "model.add(Dense(units=4, kernel_initializer='uniform', activation='sigmoid'))"
      ],
      "execution_count": null,
      "outputs": []
    },
    {
      "cell_type": "code",
      "metadata": {
        "id": "L4A9kJRpdc_N"
      },
      "source": [
        "model.compile(loss='binary_crossentropy', optimizer='adam', metrics=['accuracy',metrics.categorical_accuracy])"
      ],
      "execution_count": null,
      "outputs": []
    },
    {
      "cell_type": "markdown",
      "metadata": {
        "id": "eZHR8gHnmTYg"
      },
      "source": [
        "Training Model"
      ]
    },
    {
      "cell_type": "code",
      "metadata": {
        "colab": {
          "base_uri": "https://localhost:8080/"
        },
        "id": "huKdeUtQeCht",
        "outputId": "8945ebee-5c0b-45cb-9ebd-586ba573eb96"
      },
      "source": [
        "earlystop = EarlyStopping(monitor='val_loss', patience=4)\n",
        "history = model.fit(x_train, y_train_nn, epochs=150, batch_size=10, validation_split= 0.3,callbacks = [earlystop])"
      ],
      "execution_count": null,
      "outputs": [
        {
          "output_type": "stream",
          "text": [
            "Epoch 1/150\n",
            "654/654 [==============================] - 2s 4ms/step - loss: 0.4859 - accuracy: 0.4641 - categorical_accuracy: 0.4641 - val_loss: 0.3211 - val_accuracy: 0.7763 - val_categorical_accuracy: 0.7763\n",
            "Epoch 2/150\n",
            "654/654 [==============================] - 2s 3ms/step - loss: 0.2260 - accuracy: 0.8491 - categorical_accuracy: 0.8491 - val_loss: 0.1764 - val_accuracy: 0.8773 - val_categorical_accuracy: 0.8773\n",
            "Epoch 3/150\n",
            "654/654 [==============================] - 2s 3ms/step - loss: 0.1228 - accuracy: 0.9241 - categorical_accuracy: 0.9241 - val_loss: 0.1359 - val_accuracy: 0.9030 - val_categorical_accuracy: 0.9030\n",
            "Epoch 4/150\n",
            "654/654 [==============================] - 2s 3ms/step - loss: 0.0843 - accuracy: 0.9466 - categorical_accuracy: 0.9466 - val_loss: 0.1204 - val_accuracy: 0.9126 - val_categorical_accuracy: 0.9126\n",
            "Epoch 5/150\n",
            "654/654 [==============================] - 2s 3ms/step - loss: 0.0654 - accuracy: 0.9607 - categorical_accuracy: 0.9607 - val_loss: 0.1160 - val_accuracy: 0.9158 - val_categorical_accuracy: 0.9158\n",
            "Epoch 6/150\n",
            "654/654 [==============================] - 2s 3ms/step - loss: 0.0508 - accuracy: 0.9696 - categorical_accuracy: 0.9696 - val_loss: 0.1185 - val_accuracy: 0.9187 - val_categorical_accuracy: 0.9187\n",
            "Epoch 7/150\n",
            "654/654 [==============================] - 2s 3ms/step - loss: 0.0414 - accuracy: 0.9754 - categorical_accuracy: 0.9754 - val_loss: 0.1237 - val_accuracy: 0.9122 - val_categorical_accuracy: 0.9122\n",
            "Epoch 8/150\n",
            "654/654 [==============================] - 2s 3ms/step - loss: 0.0320 - accuracy: 0.9810 - categorical_accuracy: 0.9810 - val_loss: 0.1313 - val_accuracy: 0.9158 - val_categorical_accuracy: 0.9158\n",
            "Epoch 9/150\n",
            "654/654 [==============================] - 2s 3ms/step - loss: 0.0279 - accuracy: 0.9833 - categorical_accuracy: 0.9833 - val_loss: 0.1235 - val_accuracy: 0.9212 - val_categorical_accuracy: 0.9212\n"
          ],
          "name": "stdout"
        }
      ]
    },
    {
      "cell_type": "markdown",
      "metadata": {
        "id": "GkTjB78GmVn2"
      },
      "source": [
        "Evaluating Model"
      ]
    },
    {
      "cell_type": "code",
      "metadata": {
        "colab": {
          "base_uri": "https://localhost:8080/"
        },
        "id": "aXbElV0keE2t",
        "outputId": "43cb3450-edc4-4f13-c713-892927ff9b21"
      },
      "source": [
        "scores = model.evaluate(x_test, (class_le.fit_transform(y_test)))\n",
        "print(\"%s: %.2f%%\" % (model.metrics_names[1], scores[1]*100))\n",
        "from sklearn.metrics import precision_score\n",
        "from sklearn.metrics import recall_score\n",
        "y_pred_nn = model.predict(x_test)\n",
        "y_pred_nn = np.argmax(y_pred_nn, axis=1)\n",
        "print('Precision: %.3f' % precision_score(y_true=y_test, y_pred=y_pred_nn, average = 'macro'))\n",
        "print('Sensitivity: %.3f' % recall_score(y_test, y_pred_nn, average = 'macro'))"
      ],
      "execution_count": null,
      "outputs": [
        {
          "output_type": "stream",
          "text": [
            "73/73 [==============================] - 0s 2ms/step - loss: 0.1031 - accuracy: 0.9336 - categorical_accuracy: 0.9336\n",
            "accuracy: 93.36%\n",
            "Precision: 0.934\n",
            "Sensitivity: 0.934\n"
          ],
          "name": "stdout"
        }
      ]
    },
    {
      "cell_type": "code",
      "metadata": {
        "colab": {
          "base_uri": "https://localhost:8080/",
          "height": 189
        },
        "id": "Tywmt6YMeLIM",
        "outputId": "ad2ab24b-c237-4453-88c5-b7d24efd9f4e"
      },
      "source": [
        "confmat = confusion_matrix(y_test, y_pred_nn)\n",
        "fig,ax = plt.subplots(figsize=(2.5, 2.5))\n",
        "ax.matshow(confmat, cmap=plt.cm.Blues, alpha=.3)\n",
        "for i in range(confmat.shape[0]):\n",
        "  for j in range(confmat.shape[1]):\n",
        "    ax.text(x=j, y=i, s=confmat[i, j], va='center', ha='center')\n",
        "\n",
        "plt.xlabel('Predicted label')\n",
        "plt.ylabel('True label')\n",
        "\n",
        "plt.tight_layout()\n",
        "plt.show()"
      ],
      "execution_count": null,
      "outputs": [
        {
          "output_type": "display_data",
          "data": {
            "image/png": "[encoded data removed]",
            "text/plain": [
              "<Figure size 180x180 with 1 Axes>"
            ]
          },
          "metadata": {
            "tags": [],
            "needs_background": "light"
          }
        }
      ]
    },
    {
      "cell_type": "markdown",
      "metadata": {
        "id": "bWtv0TUv-raG"
      },
      "source": [
        "### Diagnosis Learning Curve"
      ]
    },
    {
      "cell_type": "code",
      "metadata": {
        "colab": {
          "base_uri": "https://localhost:8080/",
          "height": 295
        },
        "id": "8kznrS8i-3Zd",
        "outputId": "716612d0-fbad-4430-bdf6-360a587035e7"
      },
      "source": [
        "plt.plot(history.history['accuracy'])\n",
        "plt.plot(history.history['val_accuracy'])\n",
        "plt.title('model accuracy')\n",
        "plt.ylabel('accuracy')\n",
        "plt.xlabel('epoch')\n",
        "plt.legend(['train', 'test'], loc='upper left')\n",
        "plt.show()"
      ],
      "execution_count": null,
      "outputs": [
        {
          "output_type": "display_data",
          "data": {
            "image/png": "[encoded data removed]",
            "text/plain": [
              "<Figure size 432x288 with 1 Axes>"
            ]
          },
          "metadata": {
            "tags": [],
            "needs_background": "light"
          }
        }
      ]
    },
    {
      "cell_type": "markdown",
      "metadata": {
        "id": "J2wrNWbpmvQQ"
      },
      "source": [
        "\n",
        "\n",
        "---\n",
        "\n"
      ]
    },
    {
      "cell_type": "markdown",
      "metadata": {
        "id": "ka8VtExSfLPs"
      },
      "source": [
        "# Random Forest Model"
      ]
    },
    {
      "cell_type": "markdown",
      "metadata": {
        "id": "Txqo9VUomeK7"
      },
      "source": [
        "Building and Training Model"
      ]
    },
    {
      "cell_type": "code",
      "metadata": {
        "colab": {
          "base_uri": "https://localhost:8080/"
        },
        "id": "Y63Ncw3teRqV",
        "outputId": "9cae316c-0f53-4cc1-b2f5-0faf557fe3dc"
      },
      "source": [
        "rf = RandomForestClassifier(n_estimators=100, max_features='sqrt', random_state=1)\n",
        "param_dist = {\"max_depth\": [3,6,12,24,48,96],\n",
        "              \"max_features\": randint(1, 9),\n",
        "              \"min_samples_leaf\": randint(1, 9),\n",
        "              \"criterion\": ['entropy','gini']}\n",
        "rf_random = RandomizedSearchCV(estimator = rf, param_distributions = param_dist, cv = 5, verbose=2, n_jobs = -1)\n",
        "rf_random.fit(x_train, y_train)\n",
        "print(rf_random.best_params_)\n",
        "y_pred_rf = rf_random.predict(x_test)"
      ],
      "execution_count": null,
      "outputs": [
        {
          "output_type": "stream",
          "text": [
            "Fitting 5 folds for each of 10 candidates, totalling 50 fits\n"
          ],
          "name": "stdout"
        },
        {
          "output_type": "stream",
          "text": [
            "[Parallel(n_jobs=-1)]: Using backend LokyBackend with 2 concurrent workers.\n",
            "[Parallel(n_jobs=-1)]: Done  37 tasks      | elapsed:   41.7s\n",
            "[Parallel(n_jobs=-1)]: Done  50 out of  50 | elapsed:   54.4s finished\n"
          ],
          "name": "stderr"
        },
        {
          "output_type": "stream",
          "text": [
            "{'criterion': 'entropy', 'max_depth': 96, 'max_features': 5, 'min_samples_leaf': 1}\n"
          ],
          "name": "stdout"
        }
      ]
    },
    {
      "cell_type": "markdown",
      "metadata": {
        "id": "WoiQQTwqmiC-"
      },
      "source": [
        "Evaluating Model"
      ]
    },
    {
      "cell_type": "code",
      "metadata": {
        "colab": {
          "base_uri": "https://localhost:8080/"
        },
        "id": "B4zgKUGAgQSz",
        "outputId": "6ec60bc6-90d4-44af-a952-6a0303bbc969"
      },
      "source": [
        "scores = rf_random.score(x_test, y_test)\n",
        "print(scores)\n",
        "from sklearn.metrics import precision_score\n",
        "from sklearn.metrics import recall_score\n",
        "print('Precision: %.3f' % precision_score(y_true=y_test, y_pred=y_pred_rf, average = 'macro'))\n",
        "print('Sensitivity: %.3f' % recall_score(y_test, y_pred_rf, average = 'macro'))"
      ],
      "execution_count": null,
      "outputs": [
        {
          "output_type": "stream",
          "text": [
            "0.9233732876712328\n",
            "Precision: 0.923\n",
            "Sensitivity: 0.923\n"
          ],
          "name": "stdout"
        }
      ]
    },
    {
      "cell_type": "code",
      "metadata": {
        "colab": {
          "base_uri": "https://localhost:8080/",
          "height": 189
        },
        "id": "kyV_UhATgjoj",
        "outputId": "053bd119-57c2-49f5-db0d-90a345203d24"
      },
      "source": [
        "confmat = confusion_matrix(y_test, y_pred_rf)\n",
        "fig,ax = plt.subplots(figsize=(2.5, 2.5))\n",
        "ax.matshow(confmat, cmap=plt.cm.Blues, alpha=.3)\n",
        "for i in range(confmat.shape[0]):\n",
        "  for j in range(confmat.shape[1]):\n",
        "    ax.text(x=j, y=i, s=confmat[i, j], va='center', ha='center')\n",
        "\n",
        "plt.xlabel('Predicted label')\n",
        "plt.ylabel('True label')\n",
        "\n",
        "plt.tight_layout()\n",
        "plt.show()"
      ],
      "execution_count": null,
      "outputs": [
        {
          "output_type": "display_data",
          "data": {
            "image/png": "[encoded data removed]",
            "text/plain": [
              "<Figure size 180x180 with 1 Axes>"
            ]
          },
          "metadata": {
            "tags": [],
            "needs_background": "light"
          }
        }
      ]
    },
    {
      "cell_type": "code",
      "metadata": {
        "colab": {
          "base_uri": "https://localhost:8080/",
          "height": 297
        },
        "id": "Qcx8LovUH0Wa",
        "outputId": "6ddf0dc1-4a0c-406f-b6fe-b08a7e9b22aa"
      },
      "source": [
        "train_sizes, train_scores, test_scores =\\\n",
        "learning_curve(estimator = rf_random.best_estimator_,\n",
        "               X =  x_train,\n",
        "               y= y_train,\n",
        "               train_sizes=np.linspace(0.1, 1.0, 20),\n",
        "               cv = 5,\n",
        "               n_jobs=-1)\n",
        "\n",
        "train_mean=np.mean(train_scores, axis = 1)\n",
        "train_std = np.std(train_scores, axis=1)\n",
        "test_mean = np. mean(test_scores, axis = 1)\n",
        "test_std = np.std(test_scores, axis=1)\n",
        "\n",
        "plt.plot(train_sizes, train_mean,\n",
        "         color='blue', marker='o',\n",
        "         markersize=5, label = 'training accuracy')\n",
        "\n",
        "plt.fill_between(train_sizes, \n",
        "                 train_mean + train_std,\n",
        "                 train_mean - train_std,\n",
        "                 alpha = .15, color='blue')\n",
        "\n",
        "plt.plot(train_sizes, test_mean,\n",
        "         color='green', linestyle='--',\n",
        "         marker='s', markersize=5,\n",
        "         label='validation accuracy')\n",
        "\n",
        "plt.fill_between(train_sizes, \n",
        "                 test_mean +test_std, \n",
        "                 test_mean - test_std, \n",
        "                 alpha=.15, color='green')\n",
        "\n",
        "plt.grid()\n",
        "plt.xlabel('Number of Training Samples')\n",
        "plt.ylabel('Accuracy')\n",
        "plt.legend(loc='lower right')\n",
        "#plt.ylim([0.7,1])\n",
        "plt.tight_layout()\n",
        "plt.show()"
      ],
      "execution_count": null,
      "outputs": [
        {
          "output_type": "display_data",
          "data": {
            "image/png": "[encoded data removed]",
            "text/plain": [
              "<Figure size 432x288 with 1 Axes>"
            ]
          },
          "metadata": {
            "tags": [],
            "needs_background": "light"
          }
        }
      ]
    },
    {
      "cell_type": "code",
      "metadata": {
        "id": "m-JjI0mP_7FD"
      },
      "source": [
        ""
      ],
      "execution_count": null,
      "outputs": []
    }
  ]
}